{
 "cells": [
  {
   "cell_type": "code",
   "execution_count": 1,
   "id": "b68a92cc-7f35-471a-904a-ebddd7154965",
   "metadata": {},
   "outputs": [],
   "source": [
    "##Q1. Which function is used to open a file? What are the different modes of opening a file? Explain each mode of file opening."
   ]
  },
  {
   "cell_type": "markdown",
   "id": "781b48cb-7962-4e87-be0b-29b52674ed3a",
   "metadata": {},
   "source": [
    "In Python, the built-in function open() is used to open a file. It takes two parameters, the filename and the mode in which the file is to be opened. The different modes of file opening are:\n",
    "\n",
    "'r': read mode (default). Opens the file for reading.\n",
    "'w': write mode. Opens the file for writing. If the file already exists, it truncates the file. If it doesn't exist, it creates a new file.\n",
    "'x': exclusive creation mode. Opens the file for writing, but only if the file does not already exist. If the file exists, it raises a FileExistsError.\n",
    "'a': append mode. Opens the file for writing, but appends to the end of the file instead of truncating it. If the file doesn't exist, it creates a new file.\n",
    "'b': binary mode. Opens the file in binary mode.\n",
    "'t': text mode (default). Opens the file in text mode.\n",
    "When opening a file in write mode 'w' or append mode 'a', it is important to close the file using the close() function after writing to the file."
   ]
  },
  {
   "cell_type": "code",
   "execution_count": 2,
   "id": "2642b72a-d9e9-4be7-974e-7353e712ef53",
   "metadata": {},
   "outputs": [],
   "source": [
    "##Q2. Why close() function is used? Why is it important to close a file?"
   ]
  },
  {
   "cell_type": "markdown",
   "id": "0bfc9f10-82da-4c87-80c5-3636e87874df",
   "metadata": {},
   "source": [
    "The close() function is used to close an opened file. It is important to close a file after opening and writing to it because it frees up the resources associated with the file. Failing to close a file can cause issues such as data corruption or data loss."
   ]
  },
  {
   "cell_type": "code",
   "execution_count": 3,
   "id": "c9de982c-45f0-42d5-b17d-b88d75d32f80",
   "metadata": {},
   "outputs": [],
   "source": [
    "##Q3. Write a python program to create a text file. Write ‘I want to become a Data Scientist’ in that file. Then close the file. Open this file and read the content of the file."
   ]
  },
  {
   "cell_type": "code",
   "execution_count": 18,
   "id": "fd32794a-ab38-4f52-833b-8473d301e6be",
   "metadata": {},
   "outputs": [],
   "source": [
    "with open('dstx.txt','w') as f:\n",
    "    f.write(\"I want to become a Data Scientist\")"
   ]
  },
  {
   "cell_type": "code",
   "execution_count": 19,
   "id": "4f7e477c-a9ac-4e80-bd19-18012842bb0a",
   "metadata": {},
   "outputs": [
    {
     "name": "stdout",
     "output_type": "stream",
     "text": [
      "I want to become a Data Scientist\n"
     ]
    }
   ],
   "source": [
    "with open('dstx.txt','r') as f:\n",
    "    print(f.read())"
   ]
  },
  {
   "cell_type": "code",
   "execution_count": 20,
   "id": "60edca5b-aefc-4dfd-a2ae-08ae5efa7276",
   "metadata": {},
   "outputs": [],
   "source": [
    "##Q4. Explain the following with python code: read(), readline() and readlines()."
   ]
  },
  {
   "cell_type": "markdown",
   "id": "8ad5ffd1-6677-4ac3-b122-73d94a4daf00",
   "metadata": {},
   "source": [
    "read(): The read() function is used to read the entire contents of a file. It returns a string containing the contents of the file.\n",
    "readline(): The readline() function is used to read a single line from a file. It returns a string containing the contents of the line.\n",
    "readlines(): The readlines() function is used to read all the lines of a file and returns a list containing the lines."
   ]
  },
  {
   "cell_type": "code",
   "execution_count": 21,
   "id": "12d760e3-4658-4784-a3a0-a80d7d3450f7",
   "metadata": {},
   "outputs": [
    {
     "name": "stdout",
     "output_type": "stream",
     "text": [
      "I want to become a Data Scientist\n"
     ]
    }
   ],
   "source": [
    "with open('dstx.txt','r') as f:\n",
    "    print(f.readline())"
   ]
  },
  {
   "cell_type": "code",
   "execution_count": 22,
   "id": "53837850-a8be-4221-a84c-be512f603c18",
   "metadata": {},
   "outputs": [
    {
     "name": "stdout",
     "output_type": "stream",
     "text": [
      "['I want to become a Data Scientist']\n"
     ]
    }
   ],
   "source": [
    "with open('dstx.txt','r') as f:\n",
    "    print(f.readlines())"
   ]
  },
  {
   "cell_type": "code",
   "execution_count": 23,
   "id": "694a1f4d-bae9-4fe9-8cbc-4c19a91683d0",
   "metadata": {},
   "outputs": [],
   "source": [
    "##Q5. Explain why with statement is used with open(). What is the advantage of using with statement and open() together?"
   ]
  },
  {
   "cell_type": "markdown",
   "id": "3579eaec-a0af-40f3-af73-bf9ff802b175",
   "metadata": {},
   "source": [
    "The with statement is used with open() function in Python to ensure that a file is properly closed after it is used. The with statement defines a block of code where the file is opened and the code to be executed with the file is written. Once the block of code is executed, the file is automatically closed by Python.\n",
    "\n",
    "The advantage of using with statement and open() together is that it eliminates the need to manually close the file, which can be easily forgotten and cause issues such as file corruption or data loss. The with statement ensures that the file is closed properly, even if an exception is raised within the block of code.\n",
    "\n",
    "Using with statement and open() together also makes the code more readable and concise. The file is opened and closed within a single block of code, which makes it easier to understand the context in which the file is being used.\n",
    "\n",
    "In summary, using with statement and open() together is a recommended best practice in Python for working with files, as it helps ensure proper file handling and improves the readability and maintainability of the code."
   ]
  },
  {
   "cell_type": "code",
   "execution_count": 24,
   "id": "ca0c629a-9d77-4b9d-92e9-d895c783049e",
   "metadata": {},
   "outputs": [],
   "source": [
    "##Explain the write() and writelines() functions. Give a suitable example."
   ]
  },
  {
   "cell_type": "markdown",
   "id": "10d606de-11d8-42ac-b5d8-c8bc7d70c665",
   "metadata": {},
   "source": [
    "The write() and writelines() functions are used to write data to a file in Python.\n",
    "\n",
    "write() function: The write() function is used to write a string to a file. It takes a string as an argument and writes it to the file. If the file does not exist, it will be created. If the file already exists, the contents will be overwritten."
   ]
  },
  {
   "cell_type": "markdown",
   "id": "46c80fa7-b1fa-4dc5-bba1-d0a473d86621",
   "metadata": {},
   "source": [
    "writelines() function: The writelines() function is used to write a list of strings to a file. It takes a list of strings as an argument and writes each string to the file. If the file does not exist, it will be created. If the file already exists, the contents will be overwritten."
   ]
  },
  {
   "cell_type": "code",
   "execution_count": null,
   "id": "be62d3e3-bb11-4cc1-86d7-fb7f3e1e4f54",
   "metadata": {},
   "outputs": [],
   "source": []
  }
 ],
 "metadata": {
  "kernelspec": {
   "display_name": "Python 3 (ipykernel)",
   "language": "python",
   "name": "python3"
  },
  "language_info": {
   "codemirror_mode": {
    "name": "ipython",
    "version": 3
   },
   "file_extension": ".py",
   "mimetype": "text/x-python",
   "name": "python",
   "nbconvert_exporter": "python",
   "pygments_lexer": "ipython3",
   "version": "3.10.8"
  }
 },
 "nbformat": 4,
 "nbformat_minor": 5
}
