{
 "cells": [
  {
   "cell_type": "code",
   "execution_count": null,
   "id": "013e72ab",
   "metadata": {},
   "outputs": [],
   "source": [
    "##Q1. You are writing code for a company. The requirement of the company is that you create a python function that will check whether the password entered by the user is correct or not. The function should take the password as input and return the string “Valid Password” if the entered password follows the below-given password guidelines else it should return “Invalid Password”. Note: 1. The Password should contain at least two uppercase letters and at least two lowercase letters. 2. The Password should contain at least a number and three special characters. 3. The length of the password should be 10 characters long.\n",
    "password=input(\"Enter Password\")\n",
    "def check_password(password):\n",
    "    upper_count = 0\n",
    "    lower_count = 0\n",
    "    digit_count = 0\n",
    "    special_count = 0\n",
    "    \n",
    "    for char in password:\n",
    "        if char.isupper():\n",
    "            upper_count += 1\n",
    "        elif char.islower():\n",
    "            lower_count += 1\n",
    "        elif char.isdigit():\n",
    "            digit_count += 1\n",
    "        else:\n",
    "            special_count += 1\n",
    "    \n",
    "    if upper_count >= 2 and lower_count >= 2 and digit_count >= 1 and special_count >= 3 and len(password) == 10:\n",
    "        return \"Valid Password\"\n",
    "    else:\n",
    "        return \"Invalid Password\"\n"
   ]
  },
  {
   "cell_type": "code",
   "execution_count": 11,
   "id": "6e425e5f",
   "metadata": {},
   "outputs": [
    {
     "data": {
      "text/plain": [
       "'Q2. Solve the below-given questions using at least one of the following:\\n1. Lambda function\\n2. Filter function\\n3. Zap function\\n4. List Comprehension'"
      ]
     },
     "execution_count": 11,
     "metadata": {},
     "output_type": "execute_result"
    }
   ],
   "source": [
    "\"\"\"Q2. Solve the below-given questions using at least one of the following:\n",
    "1. Lambda function\n",
    "2. Filter function\n",
    "3. Map function\n",
    "4. List Comprehension\"\"\""
   ]
  },
  {
   "cell_type": "code",
   "execution_count": 25,
   "id": "62ea6c40",
   "metadata": {},
   "outputs": [
    {
     "name": "stdout",
     "output_type": "stream",
     "text": [
      "['Hello']\n"
     ]
    }
   ],
   "source": [
    "##Check if the string starts with a particular letter\n",
    "name=['Hello', 'World', '12345', '67890']\n",
    "startwithH=[x for x in name if x.startswith('H')]\n",
    "print(startwithH)"
   ]
  },
  {
   "cell_type": "code",
   "execution_count": 27,
   "id": "0bff49ec",
   "metadata": {},
   "outputs": [
    {
     "name": "stdout",
     "output_type": "stream",
     "text": [
      "['12345', '67890']\n"
     ]
    }
   ],
   "source": [
    "##Check if the string numeric\n",
    "is_numeric=[x for x in name if x.isnumeric()]\n",
    "print(is_numeric)"
   ]
  },
  {
   "cell_type": "code",
   "execution_count": 16,
   "id": "824bcd26",
   "metadata": {},
   "outputs": [
    {
     "name": "stdout",
     "output_type": "stream",
     "text": [
      "[('orange', 80), ('mango', 99), ('grapes', 1000)]\n"
     ]
    }
   ],
   "source": [
    "##Sort a list of tuples having fruit names and their quantity. [(\"mango\",99),(\"orange\",80), (\"grapes\", 1000)\n",
    "fruit=[(\"mango\",99),(\"orange\",80),(\"grapes\", 1000)]\n",
    "sortfrt=sorted(fruit,key=lambda x:x[1])\n",
    "print(sortfrt)"
   ]
  },
  {
   "cell_type": "code",
   "execution_count": 17,
   "id": "e9317e85",
   "metadata": {},
   "outputs": [
    {
     "name": "stdout",
     "output_type": "stream",
     "text": [
      "Squares of no: [1, 4, 9, 16, 25, 36, 49, 64, 81, 100]\n"
     ]
    }
   ],
   "source": [
    "##Find the squares of numbers from 1 to 10\n",
    "x=range(1,11)\n",
    "sqno=list(map(lambda x:x**2,x))\n",
    "print(\"Squares of no:\",sqno)"
   ]
  },
  {
   "cell_type": "code",
   "execution_count": 7,
   "id": "a8a279ed",
   "metadata": {},
   "outputs": [
    {
     "name": "stdout",
     "output_type": "stream",
     "text": [
      "[1.0, 1.26, 1.44, 1.59, 1.71, 1.82, 1.91, 2.0, 2.08, 2.15]\n"
     ]
    }
   ],
   "source": [
    "##Find the cube root of numbers from 1 to 10\n",
    "import math\n",
    "x = range(1, 11)\n",
    "cbno = list(map(lambda x: round(math.pow(x, 1/3), 2), x))\n",
    "print(cbno)"
   ]
  },
  {
   "cell_type": "code",
   "execution_count": 8,
   "id": "32cb3f1f",
   "metadata": {},
   "outputs": [
    {
     "name": "stdout",
     "output_type": "stream",
     "text": [
      "[4, 16, 36, 64, 100, 2.0]\n"
     ]
    }
   ],
   "source": [
    "x3=sqno+cbno\n",
    "oddno=list(filter(lambda x3:x3%2==0,x3))\n",
    "print(oddno)"
   ]
  },
  {
   "cell_type": "code",
   "execution_count": 20,
   "id": "39699504",
   "metadata": {},
   "outputs": [
    {
     "name": "stdout",
     "output_type": "stream",
     "text": [
      "[1, 3, 5, 7, 9]\n"
     ]
    }
   ],
   "source": [
    "##Filter odd numbers from the given list.[1,2,3,4,5,6,7,8,9,10]\n",
    "x=[1,2,3,4,5,6,7,8,9,10]\n",
    "oddno=list(filter(lambda x:x%2==1,x))\n",
    "print(oddno)"
   ]
  },
  {
   "cell_type": "code",
   "execution_count": 9,
   "id": "0faf8ab3",
   "metadata": {},
   "outputs": [
    {
     "name": "stdout",
     "output_type": "stream",
     "text": [
      "[1, 2, 3, 4, 5, 6]\n",
      "[-1, -2, -3, -4, -5]\n"
     ]
    }
   ],
   "source": [
    "##Sort a list of integers into positive and negative integers lists.[1,2,3,4,5,6,-1,-2,-3,-4,-5,0]\n",
    "x=[1,2,3,4,5,6,-1,-2,-3,-4,-5,0]\n",
    "postiveno=list(filter(lambda x:x>0,x))\n",
    "print(postiveno)\n",
    "negativeno=list(filter(lambda x:x<0,x))\n",
    "print(negativeno)"
   ]
  },
  {
   "cell_type": "code",
   "execution_count": null,
   "id": "298ce29c",
   "metadata": {},
   "outputs": [],
   "source": []
  },
  {
   "cell_type": "code",
   "execution_count": null,
   "id": "2b0e71e2",
   "metadata": {},
   "outputs": [],
   "source": []
  }
 ],
 "metadata": {
  "kernelspec": {
   "display_name": "Python 3 (ipykernel)",
   "language": "python",
   "name": "python3"
  },
  "language_info": {
   "codemirror_mode": {
    "name": "ipython",
    "version": 3
   },
   "file_extension": ".py",
   "mimetype": "text/x-python",
   "name": "python",
   "nbconvert_exporter": "python",
   "pygments_lexer": "ipython3",
   "version": "3.9.13"
  }
 },
 "nbformat": 4,
 "nbformat_minor": 5
}
