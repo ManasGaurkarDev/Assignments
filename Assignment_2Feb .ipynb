{
 "cells": [
  {
   "cell_type": "markdown",
   "id": "2605c194-528c-4823-b4e3-3aac75db0e9b",
   "metadata": {},
   "source": [
    "<h1>Assignment For Loop</h1>"
   ]
  },
  {
   "cell_type": "markdown",
   "id": "8c209d44-bf24-4e44-b2f2-f05a3f818eea",
   "metadata": {},
   "source": [
    "<h2>Q1.Explain with an example each when to use a for loop and a while loop.</h2>"
   ]
  },
  {
   "cell_type": "markdown",
   "id": "3b4220c0-0402-41a0-930f-9af6d053e4e3",
   "metadata": {},
   "source": [
    "<p>A for loop is used when you know the number of times you want to iterate through a block of code. For example, if you want to print the numbers 1 to 10, you can use a for loop like this:\n",
    "    </p>"
   ]
  },
  {
   "cell_type": "code",
   "execution_count": 1,
   "id": "c883a6f9-8192-4832-a324-c6aa8c9fe640",
   "metadata": {},
   "outputs": [
    {
     "name": "stdout",
     "output_type": "stream",
     "text": [
      "1\n",
      "2\n",
      "3\n",
      "4\n",
      "5\n",
      "6\n",
      "7\n",
      "8\n",
      "9\n",
      "10\n"
     ]
    }
   ],
   "source": [
    "for i in range(1, 11):\n",
    "    print(i)"
   ]
  },
  {
   "cell_type": "markdown",
   "id": "7e5fd196-1676-44c4-8734-d17644ce33ae",
   "metadata": {},
   "source": [
    "<p>A while loop is used when you want to repeat a set of statements an unknown number of times while a condition is true. For example, if you want to keep asking the user for input until they enter “quit”, you can use a while loop like this:\n",
    "</p>"
   ]
  },
  {
   "cell_type": "code",
   "execution_count": 2,
   "id": "d2095477-d811-4fe8-be48-aa2ccc254e7e",
   "metadata": {},
   "outputs": [
    {
     "name": "stdin",
     "output_type": "stream",
     "text": [
      "Enter something (or 'quit' to exit):  d\n",
      "Enter something (or 'quit' to exit):  quit\n"
     ]
    }
   ],
   "source": [
    "user_input = \"\"\n",
    "while user_input != \"quit\":\n",
    "    user_input = input(\"Enter something (or 'quit' to exit): \")"
   ]
  },
  {
   "cell_type": "markdown",
   "id": "745c0599-7f74-4c36-be61-f706169d48de",
   "metadata": {},
   "source": [
    "<h1>Q2.Write a python program to print the sum and product of the first 10 natural numbers using for\n",
    "and while loop.</h1>"
   ]
  },
  {
   "cell_type": "code",
   "execution_count": 3,
   "id": "b748db28-7036-4c01-88a2-69324a3faec4",
   "metadata": {},
   "outputs": [
    {
     "name": "stdout",
     "output_type": "stream",
     "text": [
      "Sum of Numbers from 1 to 10 is 55 using for loop\n"
     ]
    }
   ],
   "source": [
    "sum=0\n",
    "for i in range(1,11):\n",
    "    sum+=i\n",
    "    if(i==10):\n",
    "        print(f\"Sum of Numbers from 1 to 10 is {sum} using for loop\")"
   ]
  },
  {
   "cell_type": "code",
   "execution_count": 4,
   "id": "96a1679e-c375-449c-bd0f-c1744f44338a",
   "metadata": {},
   "outputs": [
    {
     "name": "stdout",
     "output_type": "stream",
     "text": [
      "Sum of Numbers from 1 to 10 is 55 using while loop\n"
     ]
    }
   ],
   "source": [
    "sum=0\n",
    "i=0\n",
    "while i<11:\n",
    "    sum+=i\n",
    "    if(i==10):\n",
    "        print(f\"Sum of Numbers from 1 to 10 is {sum} using while loop\")\n",
    "    i+=1"
   ]
  },
  {
   "cell_type": "code",
   "execution_count": 5,
   "id": "664285af-8781-485b-9420-966db6437efe",
   "metadata": {},
   "outputs": [
    {
     "name": "stdout",
     "output_type": "stream",
     "text": [
      "Multiplication of Numbers from 1 to 10 is 3628800\n"
     ]
    }
   ],
   "source": [
    "mult=1\n",
    "for i in range(1,11):\n",
    "    mult*=i\n",
    "    if(i==10):\n",
    "        print(f\"Multiplication of Numbers from 1 to 10 is {mult}\")"
   ]
  },
  {
   "cell_type": "code",
   "execution_count": 2,
   "id": "ecbd3f6e-6e2a-4d90-a6b1-0ffae0517d08",
   "metadata": {},
   "outputs": [
    {
     "name": "stdout",
     "output_type": "stream",
     "text": [
      "Multiplication of Numbers from 1 to 10 is 3628800\n"
     ]
    }
   ],
   "source": [
    "mult=1\n",
    "i=1\n",
    "while i<11:\n",
    "    mult*=i\n",
    "    if(i==10):\n",
    "        print(f\"Multiplication of Numbers from 1 to 10 is {mult}\")\n",
    "    i+=1"
   ]
  },
  {
   "cell_type": "markdown",
   "id": "16e1cd93-0655-422f-b4ab-2b8abaaf77a3",
   "metadata": {},
   "source": [
    "<h2>Q3.Create a python program to compute the electricity bill for a household.\n",
    "The per-unit charges in rupees are as follows: For the first 100 units, the user will be charged Rs. 4.5 per\n",
    "unit, for the next 100 units, the user will be charged Rs. 6 per unit, and for the next 100 units, the user will\n",
    "be charged Rs. 10 per unit, After 300 units and above the user will be charged Rs. 20 per unit.</h2>"
   ]
  },
  {
   "cell_type": "code",
   "execution_count": 13,
   "id": "ef241484-b19d-4258-be17-40211d7d94d5",
   "metadata": {},
   "outputs": [
    {
     "name": "stdin",
     "output_type": "stream",
     "text": [
      "Enter Units of electricity consumed in a month 310\n"
     ]
    },
    {
     "name": "stdout",
     "output_type": "stream",
     "text": [
      "2250.0\n"
     ]
    }
   ],
   "source": [
    "units=int(input(\"Enter Units of electricity consumed in a month\"))\n",
    "if units < 100:\n",
    "    final_bill=(units*4.5)\n",
    "elif units < 200:\n",
    "    final_bill=(100 * 4.5) + ((units - 100) * 6)\n",
    "elif units < 300:\n",
    "    final_bill=(100 * 4.5) + (100 * 6) + ((units - 200) * 10)\n",
    "else:\n",
    "    final_bill=(100 * 4.5) + (100 * 6) + (100 * 10) + ((units - 300) * 20)\n",
    "print(final_bill)"
   ]
  },
  {
   "cell_type": "markdown",
   "id": "f739a387-8438-4a9c-92d8-458647b73447",
   "metadata": {},
   "source": [
    "<h2>Q4.Create a list of numbers from 1 to 100. Use for loop and while loop to calculate the cube of each\n",
    "number and if the cube of that number is divisible by 4 or 5 then append that number in a list and print\n",
    "that list.</h2>"
   ]
  },
  {
   "cell_type": "code",
   "execution_count": 15,
   "id": "629f4756-a0c4-4f70-a04c-45ae67ce8cd3",
   "metadata": {},
   "outputs": [
    {
     "name": "stdout",
     "output_type": "stream",
     "text": [
      "[1, 8, 27, 64, 125, 216, 343, 512, 729, 1000, 1331, 1728, 2197, 2744, 3375, 4096, 4913, 5832, 6859, 8000, 9261, 10648, 12167, 13824, 15625, 17576, 19683, 21952, 24389, 27000, 29791, 32768, 35937, 39304, 42875, 46656, 50653, 54872, 59319, 64000, 68921, 74088, 79507, 85184, 91125, 97336, 103823, 110592, 117649, 125000, 132651, 140608, 148877, 157464, 166375, 175616, 185193, 195112, 205379, 216000, 226981, 238328, 250047, 262144, 274625, 287496, 300763, 314432, 328509, 343000, 357911, 373248, 389017, 405224, 421875, 438976, 456533, 474552, 493039, 512000, 531441, 551368, 571787, 592704, 614125, 636056, 658503, 681472, 704969, 729000, 753571, 778688, 804357, 830584, 857375, 884736, 912673, 941192, 970299, 1000000, 100]\n"
     ]
    }
   ],
   "source": [
    "cube=[]\n",
    "for i in range(1,101):\n",
    "    cube.append(i)\n",
    "    cubes=[i**3 for i in cube]\n",
    "if i % 4 == 0 & i % 5 == 0:\n",
    "    cubes.append(i)\n",
    "    print(cubes)"
   ]
  },
  {
   "cell_type": "code",
   "execution_count": 17,
   "id": "77cf7173-4f22-4e53-a8ec-0fa02e01a8da",
   "metadata": {},
   "outputs": [
    {
     "name": "stdout",
     "output_type": "stream",
     "text": [
      "[1, 8, 27, 64, 125, 216, 343, 512, 729, 1000, 1331, 1728, 2197, 2744, 3375, 4096, 4913, 5832, 6859, 8000, 9261, 10648, 12167, 13824, 15625, 17576, 19683, 21952, 24389, 27000, 29791, 32768, 35937, 39304, 42875, 46656, 50653, 54872, 59319, 64000, 68921, 74088, 79507, 85184, 91125, 97336, 103823, 110592, 117649, 125000, 132651, 140608, 148877, 157464, 166375, 175616, 185193, 195112, 205379, 216000, 226981, 238328, 250047, 262144, 274625, 287496, 300763, 314432, 328509, 343000, 357911, 373248, 389017, 405224, 421875, 438976, 456533, 474552, 493039, 512000, 531441, 551368, 571787, 592704, 614125, 636056, 658503, 681472, 704969, 729000, 753571, 778688, 804357, 830584, 857375, 884736, 912673, 941192, 970299, 1000000, 100, 0, 0]\n"
     ]
    }
   ],
   "source": [
    "cube=[]\n",
    "i=0\n",
    "while i<len(cube):\n",
    "    cube=num**3\n",
    "    cube.append(i)\n",
    "if i % 4 == 0 & i % 5 == 0:\n",
    "    cubes.append(i)\n",
    "    print(cubes)\n"
   ]
  },
  {
   "cell_type": "markdown",
   "id": "bd3b2fc9-46b4-4530-9d29-21316b280aeb",
   "metadata": {},
   "source": [
    "<h2>Q5.Write a program to filter count vowels in the below-given string.\n",
    "string = \"I want to become a data scientist\"</h2>"
   ]
  },
  {
   "cell_type": "code",
   "execution_count": 26,
   "id": "d0cc615b-9bb0-4eed-9b46-5ab539aa00c8",
   "metadata": {},
   "outputs": [],
   "source": [
    "vowels=\"aeiouAEIOU\"\n",
    "string=\"I want to become a data scientist\"\n",
    "count=0\n",
    "for char in string:\n",
    "    if char in vowels:\n",
    "        count += 1"
   ]
  },
  {
   "cell_type": "code",
   "execution_count": 2,
   "id": "9d2a8dc8-3e9c-4281-b001-0e0c274f69ab",
   "metadata": {},
   "outputs": [
    {
     "ename": "NameError",
     "evalue": "name 'git' is not defined",
     "output_type": "error",
     "traceback": [
      "\u001b[1;31m---------------------------------------------------------------------------\u001b[0m",
      "\u001b[1;31mNameError\u001b[0m                                 Traceback (most recent call last)",
      "\u001b[1;32m~\\AppData\\Local\\Temp\\ipykernel_21776\\2768940822.py\u001b[0m in \u001b[0;36m<module>\u001b[1;34m\u001b[0m\n\u001b[1;32m----> 1\u001b[1;33m \u001b[0mgit\u001b[0m\u001b[1;33m\u001b[0m\u001b[1;33m\u001b[0m\u001b[0m\n\u001b[0m",
      "\u001b[1;31mNameError\u001b[0m: name 'git' is not defined"
     ]
    }
   ],
   "source": []
  },
  {
   "cell_type": "code",
   "execution_count": null,
   "id": "b4bf9e78",
   "metadata": {},
   "outputs": [],
   "source": []
  }
 ],
 "metadata": {
  "kernelspec": {
   "display_name": "Python 3 (ipykernel)",
   "language": "python",
   "name": "python3"
  },
  "language_info": {
   "codemirror_mode": {
    "name": "ipython",
    "version": 3
   },
   "file_extension": ".py",
   "mimetype": "text/x-python",
   "name": "python",
   "nbconvert_exporter": "python",
   "pygments_lexer": "ipython3",
   "version": "3.9.13"
  }
 },
 "nbformat": 4,
 "nbformat_minor": 5
}
