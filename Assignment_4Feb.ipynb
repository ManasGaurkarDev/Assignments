{
 "cells": [
  {
   "cell_type": "markdown",
   "id": "f65861cf",
   "metadata": {},
   "source": [
    "<h1>Assignment 4 Feb</h1>"
   ]
  },
  {
   "cell_type": "markdown",
   "id": "3178e87a",
   "metadata": {},
   "source": [
    "<h2>Q1.Create a python program to sort the given list of tuples based on integer value using a\n",
    "lambda function.</h2>"
   ]
  },
  {
   "cell_type": "code",
   "execution_count": null,
   "id": "2400cd77",
   "metadata": {},
   "outputs": [],
   "source": [
    "tup1=[('Sachin Tendulkar', 34357), ('Ricky Ponting', 27483), ('Jack Kallis', 25534), ('Virat Kohli', 24936)]"
   ]
  },
  {
   "cell_type": "code",
   "execution_count": 8,
   "id": "eab6083c",
   "metadata": {},
   "outputs": [],
   "source": [
    "sorttup=sorted(tup1,key=lambda x:x[1])"
   ]
  },
  {
   "cell_type": "code",
   "execution_count": 9,
   "id": "db244bc7",
   "metadata": {},
   "outputs": [
    {
     "name": "stdout",
     "output_type": "stream",
     "text": [
      "[('Virat Kohli', 24936), ('Jack Kallis', 25534), ('Ricky Ponting', 27483), ('Sachin Tendulkar', 34357)]\n"
     ]
    }
   ],
   "source": [
    "print(sorttup)"
   ]
  },
  {
   "cell_type": "markdown",
   "id": "a66af923",
   "metadata": {},
   "source": [
    "<h2>Q2. Write a Python Program to find the squares of all the numbers in the given list of integers using\n",
    "lambda and map functions.\n",
    "[1, 2, 3, 4, 5, 6, 7, 8, 9, 10]</h2>"
   ]
  },
  {
   "cell_type": "code",
   "execution_count": 10,
   "id": "e0a8f13c",
   "metadata": {},
   "outputs": [],
   "source": [
    "numlist=[1, 2, 3, 4, 5, 6, 7, 8, 9, 10]"
   ]
  },
  {
   "cell_type": "code",
   "execution_count": 32,
   "id": "5cc89bef",
   "metadata": {},
   "outputs": [],
   "source": [
    "sqrlist=list(map(lambda x:x**2,numlist))"
   ]
  },
  {
   "cell_type": "code",
   "execution_count": 30,
   "id": "455ddf34",
   "metadata": {},
   "outputs": [
    {
     "name": "stdout",
     "output_type": "stream",
     "text": [
      "[1, 4, 9, 16, 25, 36, 49, 64, 81, 100]\n"
     ]
    }
   ],
   "source": [
    "print(sqrlist)"
   ]
  },
  {
   "cell_type": "markdown",
   "id": "cbcdb553",
   "metadata": {},
   "source": [
    "<h2>Q3. Write a python program to convert the given list of integers into a tuple of strings. Use map and\n",
    "lambda functions\n",
    "Given String: [1, 2, 3, 4, 5, 6, 7, 8, 9, 10]\n",
    "Expected output: ('1', '2', '3', '4', '5', '6', '7', '8', '9', '10')</h2>"
   ]
  },
  {
   "cell_type": "code",
   "execution_count": 42,
   "id": "a5159134",
   "metadata": {},
   "outputs": [],
   "source": [
    "numlist=[1, 2, 3, 4, 5, 6, 7, 8, 9, 10]"
   ]
  },
  {
   "cell_type": "code",
   "execution_count": 47,
   "id": "47da0b38",
   "metadata": {},
   "outputs": [],
   "source": [
    "tupofstrn=tuple(map(lambda x:str(x),numlist))"
   ]
  },
  {
   "cell_type": "code",
   "execution_count": 73,
   "id": "e29f54bf",
   "metadata": {},
   "outputs": [
    {
     "name": "stdout",
     "output_type": "stream",
     "text": [
      "('1', '2', '3', '4', '5', '6', '7', '8', '9', '10')\n"
     ]
    }
   ],
   "source": [
    "print(tupofstrn)"
   ]
  },
  {
   "cell_type": "markdown",
   "id": "1cab9547",
   "metadata": {},
   "source": [
    "<h2>Q4.Write a python program using reduce function to compute the product of a list containing numbers\n",
    "from 1 to 25.</h2>"
   ]
  },
  {
   "cell_type": "code",
   "execution_count": 51,
   "id": "db0fd8be",
   "metadata": {},
   "outputs": [
    {
     "name": "stdout",
     "output_type": "stream",
     "text": [
      "[1, 2, 3, 4, 5, 6, 7, 8, 9, 10, 11, 12, 13, 14, 15, 16, 17, 18, 19, 20, 21, 22, 23, 24, 25]\n"
     ]
    }
   ],
   "source": [
    "lis_25=[i for i in range(1,25+1)]\n",
    "print(lis_25)"
   ]
  },
  {
   "cell_type": "code",
   "execution_count": 55,
   "id": "238ff191",
   "metadata": {},
   "outputs": [],
   "source": [
    "import functools"
   ]
  },
  {
   "cell_type": "code",
   "execution_count": 65,
   "id": "7d6a2509",
   "metadata": {},
   "outputs": [
    {
     "name": "stdout",
     "output_type": "stream",
     "text": [
      "15511210043330985984000000\n"
     ]
    }
   ],
   "source": [
    "print(functools.reduce(lambda x,y:x*y,lis_25))"
   ]
  },
  {
   "cell_type": "markdown",
   "id": "05a7da77",
   "metadata": {},
   "source": [
    "<h1>Q5. Write a python program to filter the numbers in a given list that are divisible by 2 and 3 using the\n",
    "filter function.\n",
    "[2, 3, 6, 9, 27, 60, 90, 120, 55, 46]</h1>"
   ]
  },
  {
   "cell_type": "code",
   "execution_count": 72,
   "id": "b75f9c2e",
   "metadata": {},
   "outputs": [
    {
     "name": "stdout",
     "output_type": "stream",
     "text": [
      "[2, 6, 60, 90, 120, 46]\n"
     ]
    }
   ],
   "source": [
    "num=[2, 3, 6, 9, 27, 60, 90, 120, 55, 46]\n",
    "print(list(filter(lambda x:x%2==0 & x%3==0,num)))"
   ]
  },
  {
   "cell_type": "markdown",
   "id": "a8e33179",
   "metadata": {},
   "source": [
    "<h2>Write a python program to find palindromes in the given list of strings using lambda and filter\n",
    "function.<h2>"
   ]
  },
  {
   "cell_type": "code",
   "execution_count": 70,
   "id": "12693a69",
   "metadata": {},
   "outputs": [
    {
     "name": "stdout",
     "output_type": "stream",
     "text": [
      "['php', 'aba', 'radar', 'level']\n"
     ]
    }
   ],
   "source": [
    "strings = ['python', 'php', 'aba', 'radar', 'level']\n",
    "palindromes = list(filter(lambda x: x == x[::-1], strings))\n",
    "print(palindromes)"
   ]
  }
 ],
 "metadata": {
  "kernelspec": {
   "display_name": "Python 3 (ipykernel)",
   "language": "python",
   "name": "python3"
  },
  "language_info": {
   "codemirror_mode": {
    "name": "ipython",
    "version": 3
   },
   "file_extension": ".py",
   "mimetype": "text/x-python",
   "name": "python",
   "nbconvert_exporter": "python",
   "pygments_lexer": "ipython3",
   "version": "3.9.13"
  }
 },
 "nbformat": 4,
 "nbformat_minor": 5
}
