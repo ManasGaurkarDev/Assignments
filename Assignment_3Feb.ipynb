{
 "cells": [
  {
   "cell_type": "markdown",
   "id": "92160329",
   "metadata": {},
   "source": [
    "<h1>Assignment 3Feb</h1>"
   ]
  },
  {
   "cell_type": "markdown",
   "id": "93686549",
   "metadata": {},
   "source": [
    "<h2>Q1.Which keyword is used to create a function? Create a function to return a list of odd numbers in the\n",
    "range of 1 to 25.</h2>"
   ]
  },
  {
   "cell_type": "markdown",
   "id": "87a2d058",
   "metadata": {},
   "source": [
    "<p>In Python a function is defined using the def keyword</p>"
   ]
  },
  {
   "cell_type": "code",
   "execution_count": 8,
   "id": "4c4f6636",
   "metadata": {},
   "outputs": [],
   "source": [
    "list1=[]\n",
    "def oddno():\n",
    "     return [i for i in range(1,26,2)]"
   ]
  },
  {
   "cell_type": "code",
   "execution_count": 9,
   "id": "d81f6f19",
   "metadata": {},
   "outputs": [
    {
     "name": "stdout",
     "output_type": "stream",
     "text": [
      "[1, 3, 5, 7, 9, 11, 13, 15, 17, 19, 21, 23, 25]\n"
     ]
    }
   ],
   "source": [
    "print(oddno())"
   ]
  },
  {
   "cell_type": "markdown",
   "id": "5eb984f9",
   "metadata": {},
   "source": [
    "<h2>Q2.Why *args and **kwargs is used in some functions? Create a function each for *args and **kwargs\n",
    "to demonstrate their use.</h2>"
   ]
  },
  {
   "cell_type": "markdown",
   "id": "83b7ce69",
   "metadata": {},
   "source": [
    "<p>The special syntax *args in function definitions in Python is used to pass a variable number of arguments to a function. It is used to pass a non-keyworded, variable-length argument list.</p>"
   ]
  },
  {
   "cell_type": "markdown",
   "id": "213b6db6",
   "metadata": {},
   "source": [
    "<p>The special syntax **kwargs in function definitions in Python is used to pass a keyworded, variable-length argument list. We use the name kwargs with the double star. The reason is that the double star allows us to pass through keyword arguments (and any number of them).</p>"
   ]
  },
  {
   "cell_type": "markdown",
   "id": "e3d0e346",
   "metadata": {},
   "source": [
    "<p>Iterator in Python is an object that is used to iterate over iterable objects like lists, tuples, dicts, and sets. The iterator object is initialized using the iter() method. It uses the next() method for iteration.\n",
    "\n",
    "__iter__(): The iter() method is called for the initialization of an iterator. This returns an iterator object\n",
    "__next__(): The next method returns the next value for the iterable. When we use a for loop to traverse any iterable object, internally it uses the iter() method to get an iterator object, which further uses the next() method to iterate over. This method raises a StopIteration to signal the end of the iteration.</p>"
   ]
  },
  {
   "cell_type": "code",
   "execution_count": 12,
   "id": "4da4ecf5",
   "metadata": {},
   "outputs": [
    {
     "name": "stdout",
     "output_type": "stream",
     "text": [
      "2\n",
      "4\n",
      "6\n",
      "8\n",
      "10\n"
     ]
    }
   ],
   "source": [
    "list2=[2, 4, 6, 8, 10, 12, 14,\n",
    "16, 18, 20]\n",
    "iterlist=iter(list2)\n",
    "for i in range(1,6):\n",
    "    print(next(iterlist))\n"
   ]
  },
  {
   "cell_type": "markdown",
   "id": "47de2956",
   "metadata": {},
   "source": [
    "<h2>Q3.What is a generator function in python? Why yield keyword is used? Give an example of a generator\n",
    "function.</h2>"
   ]
  },
  {
   "cell_type": "markdown",
   "id": "e37d9392",
   "metadata": {},
   "source": [
    "<p>A generator function in Python is a function that returns an iterator. It generates values one at a time using the yield keyword instead of returning all the values at once like a normal function. The yield keyword is used to pause the function and return a value. When the function is called again, it resumes from where it left off.\n",
    "\n",
    "Here’s an example of a generator function that generates even numbers:\n",
    "</p>"
   ]
  },
  {
   "cell_type": "code",
   "execution_count": 14,
   "id": "066fc6f8",
   "metadata": {},
   "outputs": [],
   "source": [
    "def generate_even_numbers(n):\n",
    "    for i in range(n):\n",
    "        if i % 2 == 0:\n",
    "            yield i"
   ]
  },
  {
   "cell_type": "code",
   "execution_count": 15,
   "id": "ac49888b",
   "metadata": {},
   "outputs": [
    {
     "name": "stdout",
     "output_type": "stream",
     "text": [
      "0\n",
      "2\n",
      "4\n",
      "6\n",
      "8\n"
     ]
    }
   ],
   "source": [
    "even_numbers = generate_even_numbers(10)\n",
    "for num in even_numbers:\n",
    "    print(num)"
   ]
  },
  {
   "cell_type": "markdown",
   "id": "36894bc9",
   "metadata": {},
   "source": [
    "<h2>Q5.Create a generator function for prime numbers less than 1000. Use the next() method to print the\n",
    "first 20 prime numbers.</h2>"
   ]
  },
  {
   "cell_type": "code",
   "execution_count": 36,
   "id": "49fa2f21",
   "metadata": {},
   "outputs": [],
   "source": [
    "def genprimeno(n):\n",
    "    for i in range(2,1001):\n",
    "        if n%i==0:\n",
    "            yield i"
   ]
  },
  {
   "cell_type": "code",
   "execution_count": 37,
   "id": "198f27b7",
   "metadata": {},
   "outputs": [
    {
     "name": "stdout",
     "output_type": "stream",
     "text": [
      "<generator object genprimeno at 0x00000205D5899C80>\n"
     ]
    }
   ],
   "source": [
    "print(genprimeno(1000))"
   ]
  },
  {
   "cell_type": "code",
   "execution_count": 38,
   "id": "3264c2ca",
   "metadata": {},
   "outputs": [
    {
     "name": "stdout",
     "output_type": "stream",
     "text": [
      "2\n",
      "4\n",
      "5\n",
      "10\n",
      "20\n"
     ]
    }
   ],
   "source": [
    "primenum=genprimeno(20)\n",
    "for i in primenum:\n",
    "    print(i)"
   ]
  },
  {
   "cell_type": "markdown",
   "id": "1dbc66fc",
   "metadata": {},
   "source": [
    "<h2>Write a python program to print the first 10 Fibonacci numbers using a while loop.</h2>"
   ]
  },
  {
   "cell_type": "code",
   "execution_count": 39,
   "id": "7a906f27",
   "metadata": {},
   "outputs": [
    {
     "name": "stdout",
     "output_type": "stream",
     "text": [
      "0\n",
      "1\n",
      "1\n",
      "2\n",
      "3\n",
      "5\n",
      "8\n",
      "13\n",
      "21\n",
      "34\n"
     ]
    }
   ],
   "source": [
    "a,b=0,1\n",
    "count=0\n",
    "while count<10:\n",
    "    print(a)\n",
    "    a,b=b,a + b\n",
    "    count += 1"
   ]
  },
  {
   "cell_type": "markdown",
   "id": "0ce9987f",
   "metadata": {},
   "source": [
    "<h2>Q7.Write a List Comprehension to iterate through the given string: ‘pwskills’.\n",
    "Expected output: ['p', 'w', 's', 'k', 'i', 'l', 'l', 's']</h2>"
   ]
  },
  {
   "cell_type": "code",
   "execution_count": 61,
   "id": "dcb8eb91",
   "metadata": {},
   "outputs": [
    {
     "name": "stdout",
     "output_type": "stream",
     "text": [
      "['p', 'w', 's', 'k', 'i', 'l', 'l', 's']\n"
     ]
    }
   ],
   "source": [
    "strn=\"pwskills\"\n",
    "list3=[i for i in strn]\n",
    "print(list3)"
   ]
  },
  {
   "cell_type": "markdown",
   "id": "86dd79fc",
   "metadata": {},
   "source": [
    "<h2>Q8. Write a python program to check whether a given number is Palindrome or not using a while loop.</h2>"
   ]
  },
  {
   "cell_type": "code",
   "execution_count": 63,
   "id": "9a2b917b",
   "metadata": {},
   "outputs": [
    {
     "name": "stdout",
     "output_type": "stream",
     "text": [
      "Enter any number:23\n",
      "Not a palindrome!\n"
     ]
    }
   ],
   "source": [
    "num=int(input(\"Enter any number:\"))\n",
    "temp=num\n",
    "rev=0\n",
    "while(num>0):\n",
    "    dig=num%10\n",
    "    rev=rev*10+dig\n",
    "    num=num//10\n",
    "if(temp==rev):\n",
    "    print(\"The {0} number is palindrome!\".format(temp))\n",
    "else:\n",
    "    print(\"Not a palindrome!\")"
   ]
  },
  {
   "cell_type": "code",
   "execution_count": 73,
   "id": "00ddb859",
   "metadata": {},
   "outputs": [
    {
     "name": "stdout",
     "output_type": "stream",
     "text": [
      "[1, 3, 5, 7, 9, 11, 13, 15, 17, 19, 21, 23, 25, 27, 29, 31, 33, 35, 37, 39, 41, 43, 45, 47, 49, 51, 53, 55, 57, 59, 61, 63, 65, 67, 69, 71, 73, 75, 77, 79, 81, 83, 85, 87, 89, 91, 93, 95, 97, 99]\n"
     ]
    }
   ],
   "source": [
    "list4=[i for i in range(1,101)]\n",
    "oddlist=[i for i in list4 if i%2==1]\n",
    "print(oddlist)"
   ]
  },
  {
   "cell_type": "code",
   "execution_count": null,
   "id": "7d23b615",
   "metadata": {},
   "outputs": [],
   "source": []
  }
 ],
 "metadata": {
  "kernelspec": {
   "display_name": "Python 3 (ipykernel)",
   "language": "python",
   "name": "python3"
  },
  "language_info": {
   "codemirror_mode": {
    "name": "ipython",
    "version": 3
   },
   "file_extension": ".py",
   "mimetype": "text/x-python",
   "name": "python",
   "nbconvert_exporter": "python",
   "pygments_lexer": "ipython3",
   "version": "3.9.13"
  }
 },
 "nbformat": 4,
 "nbformat_minor": 5
}
