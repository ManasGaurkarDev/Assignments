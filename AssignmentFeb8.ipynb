{
 "cells": [
  {
   "cell_type": "code",
   "execution_count": 1,
   "id": "b22102d8-3813-49c6-9fb7-cc1c04707899",
   "metadata": {},
   "outputs": [],
   "source": [
    "##Q1. What is Abstraction in OOps? Explain with an example."
   ]
  },
  {
   "cell_type": "markdown",
   "id": "2ab0ee85-ac12-42f4-a45c-e14a3ee04d7f",
   "metadata": {},
   "source": [
    "Abstraction is a concept in object-oriented programming (OOP) that describes the process of hiding the internal details of an application from the outer world. Abstraction is used to describe things in simple terms and to create a boundary between the application and the client programs1.\n",
    "An example of abstraction is a car. A car has many internal components that work together to make it run, such as the engine, the transmission, the brakes, etc. However, when we use a car, we don’t need to know how these components work. We only need to know how to interact with the car through its interface, such as the steering wheel, the pedals, the buttons, etc. The car’s interface is an abstraction that hides the complexity of its implementation from us."
   ]
  },
  {
   "cell_type": "code",
   "execution_count": 2,
   "id": "7b58f9c0-1c29-4783-81bf-501b8a5bedf9",
   "metadata": {},
   "outputs": [],
   "source": [
    "##Q2. Differentiate between Abstraction and Encapsulation. Explain with an example."
   ]
  },
  {
   "cell_type": "markdown",
   "id": "ef6a4444-aeb3-4649-81f7-26dde5a6f6b4",
   "metadata": {},
   "source": [
    "Abstraction is the process of hiding the internal details of an application from the outer world and describing things in simple terms. Abstraction is used to create a boundary between the application and the client programs. Abstraction is achieved by using abstract classes and interfaces in Java.\n",
    "\n",
    "Encapsulation is the process of wrapping data and code together into a single unit and protecting them from unauthorized access. Encapsulation is used to ensure data integrity and security. Encapsulation is achieved by using access modifiers, getters and setters, and constructors in Java.\n",
    "\n",
    "An example of abstraction and encapsulation is a bank account. A bank account has some data, such as balance, account number, etc., and some methods, such as deposit, withdraw, transfer, etc. The data and methods are encapsulated into a single class called BankAccount. The class has private fields and public methods to ensure data security and integrity. The class also implements an interface called Account that defines the abstract methods that any account should have. The interface is an abstraction that hides the implementation details of the bank account from the client programs. The client programs only need to know how to interact with the bank account through its interface, not how it works internally."
   ]
  },
  {
   "cell_type": "code",
   "execution_count": 3,
   "id": "009657e3-e849-4004-bc6f-3c12089c8a41",
   "metadata": {},
   "outputs": [],
   "source": [
    "##Q3. What is abc module in python? Why is it used?"
   ]
  },
  {
   "cell_type": "markdown",
   "id": "2edfce1e-3511-4f36-b7a3-c893f661b17b",
   "metadata": {},
   "source": [
    "The abc module is a module in Python that provides the infrastructure for defining abstract base classes (ABCs). ABCs are classes that have one or more abstract methods that must be implemented by their subclasses. ABCs are used to enforce a common interface and behavior for a set of related classes. ABCs also support multiple inheritance and polymorphism.\n",
    "\n",
    "The abc module provides a metaclass called ABCMeta that can be used to create ABCs. The metaclass checks if the abstract methods are implemented by the subclasses and raises an exception if not. The abc module also provides a decorator called @abstractmethod that can be used to mark a method as abstract.\n",
    "\n",
    "An example of using the abc module is to define an abstract class called Shape that has an abstract method called area. The Shape class can then be subclassed by concrete classes such as Circle, Square, Triangle, etc. that implement the area method. The Shape class can also be used to check if an object is an instance of any subclass of Shape using the isinstance function"
   ]
  },
  {
   "cell_type": "code",
   "execution_count": 4,
   "id": "866cf220-9cc0-429d-a899-be4c501d8cbf",
   "metadata": {},
   "outputs": [],
   "source": [
    "##Q4. How can we achieve data abstraction?"
   ]
  },
  {
   "cell_type": "markdown",
   "id": "f5bcd9c8-4a0a-46fa-9b15-9e63564d50aa",
   "metadata": {},
   "source": [
    "Data abstraction in Python can be achieved through creating abstract classes and inheriting them later1. Abstract classes are classes that have one or more abstract methods that must be implemented by their subclasses. Abstract classes are used to define a common interface and behavior for a set of related classes.\n",
    "\n",
    "To create an abstract class in Python, we need to import the abc module and use the ABCMeta metaclass and the @abstractmethod decorator. The ABCMeta metaclass checks if the abstract methods are implemented by the subclasses and raises an exception if not. The @abstractmethod decorator marks a method as abstract.\n",
    "\n",
    "An example of data abstraction in Python is to define an abstract class called Animal that has an abstract method called sound. The Animal class can then be subclassed by concrete classes such as Dog, Cat, Cow, etc. that implement the sound method. The Animal class can also be used to check if an object is an instance of any subclass of Animal using the isinstance function."
   ]
  },
  {
   "cell_type": "code",
   "execution_count": null,
   "id": "e19fce96-b703-4a5d-b0fa-76df900cb516",
   "metadata": {},
   "outputs": [],
   "source": [
    "##Q5. Can we create an instance of an abstract class? Explain your answer."
   ]
  },
  {
   "cell_type": "markdown",
   "id": "73aca38d-c3f6-46d9-bc0d-396550605bca",
   "metadata": {},
   "source": [
    " Python and Ruby, we can create an instance of an abstract class directly. However, we cannot call any abstract methods on that instance. If we try to call an abstract method on an instance of an abstract class, we will get a run-time error.\n",
    "\n",
    "One way to create an instance of an abstract class indirectly is to use an anonymous class or a lambda expression. An anonymous class is a nameless class that extends or implements an abstract class or an interface. A lambda expression is a function without a name that can be used as an argument or a return value. Both anonymous classes and lambda expressions can provide implementations for the abstract methods and create instances of the abstract class on the fly. However, this technique may not be supported by all languages or may have some limitations."
   ]
  },
  {
   "cell_type": "code",
   "execution_count": null,
   "id": "ded24037-ceb3-4f18-a229-32437b079abf",
   "metadata": {},
   "outputs": [],
   "source": []
  }
 ],
 "metadata": {
  "kernelspec": {
   "display_name": "Python 3 (ipykernel)",
   "language": "python",
   "name": "python3"
  },
  "language_info": {
   "codemirror_mode": {
    "name": "ipython",
    "version": 3
   },
   "file_extension": ".py",
   "mimetype": "text/x-python",
   "name": "python",
   "nbconvert_exporter": "python",
   "pygments_lexer": "ipython3",
   "version": "3.10.8"
  }
 },
 "nbformat": 4,
 "nbformat_minor": 5
}
