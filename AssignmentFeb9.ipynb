{
 "cells": [
  {
   "cell_type": "code",
   "execution_count": 1,
   "id": "0ba2d587-8091-4340-a55a-471e4c71ba14",
   "metadata": {},
   "outputs": [],
   "source": [
    "##Q1, Create a vehicle class with an init method having instance variables as name_of_vehicle, max_speed and average_of_vehicle."
   ]
  },
  {
   "cell_type": "code",
   "execution_count": 30,
   "id": "2eedda48-ae0e-4ec3-8b90-7f32beec40fd",
   "metadata": {},
   "outputs": [],
   "source": [
    "class Vehicle:\n",
    "    def __init__(self,name_of_vehicle,max_speed,average_of_vehicle):\n",
    "        self.name_of_vehicle=name_of_vehicle\n",
    "        self.max_speed=max_speed\n",
    "        self.average_of_vehicle=average_of_vehicle"
   ]
  },
  {
   "cell_type": "code",
   "execution_count": 32,
   "id": "d719c299-1548-4612-8cbe-ec692bbc3a54",
   "metadata": {},
   "outputs": [],
   "source": [
    "##Q2. Create a child class car from the vehicle class created in Que 1, which will inherit the vehicle class.Create a method named seating_capacity which takes capacity as an argument and returns the name ofthe vehicle and its seating capacity."
   ]
  },
  {
   "cell_type": "code",
   "execution_count": 47,
   "id": "1bde221b-d3b0-4f71-b3a1-3f660ced2cb7",
   "metadata": {},
   "outputs": [],
   "source": [
    "class Car(Vehicle):\n",
    "    def seating_capacity(self,capacity):\n",
    "        self.capacity=capacity\n",
    "        return f\"Name of vehicle {self.name_of_vehicle} & Seating Capacity {capacity}\""
   ]
  },
  {
   "cell_type": "code",
   "execution_count": 48,
   "id": "db695e96-abcb-43f9-837d-c5414317be13",
   "metadata": {},
   "outputs": [
    {
     "name": "stdout",
     "output_type": "stream",
     "text": [
      "Name of vehicle Audi & Seating Capacity 5\n"
     ]
    }
   ],
   "source": [
    "car1=Car(\"Audi\",230,21)\n",
    "print(car1.seating_capacity(5))"
   ]
  },
  {
   "cell_type": "code",
   "execution_count": null,
   "id": "f8dc3cf7-28e8-44f3-876f-3f227a565de2",
   "metadata": {},
   "outputs": [],
   "source": [
    "##Q3. What is multiple inheritance? Write a python code to demonstrate multiple inheritance."
   ]
  },
  {
   "cell_type": "markdown",
   "id": "7caa6f5c-c731-4759-a428-bccb6544ff13",
   "metadata": {},
   "source": [
    "Multiple inheritance is a feature of object-oriented programming languages like Python, where a class can inherit attributes and methods from more than one parent class.\n",
    "\n",
    "Here's an example Python code to demonstrate multiple inheritance:"
   ]
  },
  {
   "cell_type": "code",
   "execution_count": 1,
   "id": "97efb5ce-540c-4db9-8578-a7d0005471a3",
   "metadata": {},
   "outputs": [
    {
     "name": "stdout",
     "output_type": "stream",
     "text": [
      "This is method 1 of Parent 1\n",
      "This is method 2 of Parent 2\n",
      "This is method 3 of Child\n"
     ]
    }
   ],
   "source": [
    "class Parent1:\n",
    "    def method1(self):\n",
    "        print(\"This is method 1 of Parent 1\")\n",
    "        \n",
    "class Parent2:\n",
    "    def method2(self):\n",
    "        print(\"This is method 2 of Parent 2\")\n",
    "        \n",
    "class Child(Parent1, Parent2):\n",
    "    def method3(self):\n",
    "        print(\"This is method 3 of Child\")\n",
    "        \n",
    "obj = Child()\n",
    "obj.method1() # This is method 1 of Parent 1\n",
    "obj.method2() # This is method 2 of Parent 2\n",
    "obj.method3() # This is method 3 of Child\n"
   ]
  },
  {
   "cell_type": "code",
   "execution_count": 2,
   "id": "62d2282f-2666-4327-a42e-8414beb88565",
   "metadata": {},
   "outputs": [],
   "source": [
    "##Q4. What are getter and setter in python? Create a class and create a getter and a setter method in this class."
   ]
  },
  {
   "cell_type": "markdown",
   "id": "54f5a8ca-eb83-481d-82d3-c233d6739c2b",
   "metadata": {},
   "source": [
    "Getter and setter are methods used for accessing and modifying the value of an object's attributes in object-oriented programming.\n",
    "\n",
    "A getter is a method that returns the value of a private attribute, while a setter is a method that sets the value of a private attribute. The main advantage of using getters and setters is that they allow us to control the access to an object's attributes and ensure data encapsulation.\n",
    "\n",
    "Here's an example of a Python class with a private attribute and a getter and setter method:"
   ]
  },
  {
   "cell_type": "code",
   "execution_count": 3,
   "id": "b015fdaa-1aa1-4a89-804d-b5d042f2ec9c",
   "metadata": {},
   "outputs": [],
   "source": [
    "class Person:\n",
    "    def __init__(self, name):\n",
    "        self.__name = name\n",
    "        \n",
    "    def get_name(self):\n",
    "        return self.__name\n",
    "        \n",
    "    def set_name(self, name):\n",
    "        self.__name = name"
   ]
  },
  {
   "cell_type": "code",
   "execution_count": 4,
   "id": "d98a26a2-626a-4fa8-9ef0-0b786890dc7f",
   "metadata": {},
   "outputs": [],
   "source": [
    "##Q5.What is method overriding in python? Write a python code to demonstrate method overriding."
   ]
  },
  {
   "cell_type": "markdown",
   "id": "65c60370-f4e8-4351-8cc2-8e8b7b333091",
   "metadata": {},
   "source": [
    "In Python, method overriding is a process in which a subclass provides its implementation of a method that is already present in its parent class. The implementation in the subclass overrides the implementation in the parent class.\n",
    "\n",
    "Here is an example code demonstrating method overriding in Python:"
   ]
  },
  {
   "cell_type": "code",
   "execution_count": 5,
   "id": "2ade14ee-cceb-44f6-8415-f0f984fad7d1",
   "metadata": {},
   "outputs": [
    {
     "name": "stdout",
     "output_type": "stream",
     "text": [
      "The animal makes a sound\n",
      "The dog barks\n",
      "The cat meows\n"
     ]
    }
   ],
   "source": [
    "class Animal:\n",
    "    def make_sound(self):\n",
    "        print(\"The animal makes a sound\")\n",
    "\n",
    "class Dog(Animal):\n",
    "    def make_sound(self):\n",
    "        print(\"The dog barks\")\n",
    "\n",
    "class Cat(Animal):\n",
    "    def make_sound(self):\n",
    "        print(\"The cat meows\")\n",
    "\n",
    "# Creating objects of the classes\n",
    "animal = Animal()\n",
    "dog = Dog()\n",
    "cat = Cat()\n",
    "\n",
    "# Calling the make_sound method of each object\n",
    "animal.make_sound()  # Output: The animal makes a sound\n",
    "dog.make_sound()     # Output: The dog barks\n",
    "cat.make_sound()     # Output: The cat meows\n"
   ]
  },
  {
   "cell_type": "code",
   "execution_count": null,
   "id": "a17df13a-8528-4fb9-a432-60892bb0edf7",
   "metadata": {},
   "outputs": [],
   "source": []
  }
 ],
 "metadata": {
  "kernelspec": {
   "display_name": "Python 3 (ipykernel)",
   "language": "python",
   "name": "python3"
  },
  "language_info": {
   "codemirror_mode": {
    "name": "ipython",
    "version": 3
   },
   "file_extension": ".py",
   "mimetype": "text/x-python",
   "name": "python",
   "nbconvert_exporter": "python",
   "pygments_lexer": "ipython3",
   "version": "3.10.8"
  }
 },
 "nbformat": 4,
 "nbformat_minor": 5
}
